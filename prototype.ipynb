{
 "cells": [
  {
   "cell_type": "code",
   "execution_count": 1,
   "metadata": {},
   "outputs": [
    {
     "name": "stdout",
     "output_type": "stream",
     "text": [
      "              x         y         z\n",
      "0     -3.719171  1.441667  2.574435\n",
      "1      3.371187 -1.834861 -5.104661\n",
      "2      2.861366 -3.024369 -5.513213\n",
      "3      2.837314 -2.033112 -5.512642\n",
      "4      0.819776 -0.647488 -0.632704\n",
      "...         ...       ...       ...\n",
      "16119 -4.331544 -1.183650  4.431044\n",
      "16120 -4.240115  0.342916  4.239984\n",
      "16121 -3.959691 -1.034959  4.024511\n",
      "16122 -3.749135  0.937679  4.394070\n",
      "16123 -4.371996  1.251320  3.958347\n",
      "\n",
      "[16124 rows x 3 columns]\n"
     ]
    }
   ],
   "source": [
    "import pandas as pd\n",
    "import numpy as np\n",
    "\n",
    "def generate_points(size, min, max):\n",
    "    points = np.random.normal(min, max, (size, 3))\n",
    "    return np.ndarray.tolist(points)\n",
    "\n",
    "# Randomly generates points with coordinates values ranging from -10 to 10\n",
    "positions = generate_points(100000, -10, 10)\n",
    "positions[:10]\n",
    "\n",
    "#Uncomment the lines below to use the positions file instead\n",
    "df_points = pd.read_table(\"data/positions.xyz\", delim_whitespace=True, names=['x', 'y', 'z'])\n",
    "print(df_points)\n",
    "positions = np.ndarray.tolist(df_points.to_numpy().reshape(-1, 3))"
   ]
  },
  {
   "cell_type": "code",
   "execution_count": 2,
   "metadata": {},
   "outputs": [],
   "source": [
    "def binary_search(array, lo, hi, key, last=False):\n",
    "    result = -1\n",
    "    while lo < hi:\n",
    "        mid = (hi + lo) // 2\n",
    "        comparator = key(array[mid])\n",
    "\n",
    "        if comparator == 0:\n",
    "            result = mid\n",
    "            if last:\n",
    "                lo = mid + 1\n",
    "            else:\n",
    "                hi = mid\n",
    "        elif comparator < 0:\n",
    "            lo = mid + 1\n",
    "        else:\n",
    "            hi = mid\n",
    "    \n",
    "    return result\n",
    "\n",
    "def distance(p1, p2):\n",
    "    d = 0\n",
    "    for i in range(len(p1)):\n",
    "        d += (p1[i] - p2[i])**2\n",
    "    return d**0.5\n",
    "\n",
    "def brute_force_(points, lo, hi, min_d, pairs, lo1, hi1):\n",
    "    local_pairs = []\n",
    "    for i in range(lo, hi):\n",
    "        for j in range(lo1, hi1):\n",
    "            p1 = points[i]\n",
    "            p2 = points[j]\n",
    "            d = distance(p1, p2)\n",
    "            if d < min_d and (p1, p2) not in local_pairs and (p2, p1) not in local_pairs:\n",
    "                local_pairs.append((p1, p2))\n",
    "    pairs += local_pairs\n",
    "\n",
    "def brute_force(points, lo, hi, min_d, pairs):\n",
    "    brute_force_(points, lo, hi, min_d, pairs, lo, hi)\n",
    "\n",
    "def close_to_mid(p, mid_point, min_d, dim):\n",
    "    d = p[dim] - mid_point[dim]\n",
    "    if abs(d) <= min_d:\n",
    "        return 0\n",
    "    return d\n",
    "\n",
    "def find_close_pairs(points, lo, hi, min_d, cutoff, dim_depth, verbose=[]):\n",
    "    pairs = []\n",
    "    find_close_pairs_recursion(points, lo, hi, min_d, cutoff, dim_depth, verbose, 0, pairs)\n",
    "    return pairs\n",
    "\n",
    "i = 0\n",
    "def find_close_pairs_recursion(points, lo, hi, min_d, cutoff, dim_depth, verbose, dim, pairs):\n",
    "    global i\n",
    "    i += 1\n",
    "    size = hi - lo\n",
    "    if size <= cutoff:\n",
    "        brute_force(points, lo, hi, min_d, pairs)\n",
    "        return\n",
    "\n",
    "    mid = (lo + hi) // 2\n",
    "    mid_point = points[mid]\n",
    "\n",
    "    lo_close_to_mid = close_to_mid(points[lo], mid_point, min_d, dim) == 0\n",
    "    hi_close_to_mid = close_to_mid(points[hi-1], mid_point, min_d, dim) == 0\n",
    "\n",
    "    if (lo_close_to_mid or hi_close_to_mid) and dim_depth - dim > 1:\n",
    "        local_points = sorted(points[lo:hi], key=lambda p: p[dim + 1])\n",
    "        if \"dim\" in verbose:\n",
    "            print(\"next dim!\", \"dim\", dim, \"to\", \"dim\", dim+1)\n",
    "        find_close_pairs_recursion(local_points, 0, size, min_d, cutoff, dim_depth, verbose, dim+1, pairs)\n",
    "        return\n",
    "\n",
    "    mid_lo = lo\n",
    "    if not lo_close_to_mid:\n",
    "        mid_lo = binary_search(points, lo, mid, lambda p: close_to_mid(p, mid_point, min_d, dim), False)\n",
    "    elif \"close\" in verbose:\n",
    "        print(\"too close lo\", mid-lo, \"dim\", dim)\n",
    "\n",
    "    # mid_lo1 = mid - 1\n",
    "    # while mid_lo1 > lo and close_to_mid(points[mid_lo1], mid_point, min_d, dim) == 0:\n",
    "    #     mid_lo1 -= 1\n",
    "        \n",
    "    mid_hi = hi\n",
    "    if not hi_close_to_mid:\n",
    "        mid_hi = binary_search(points, mid, hi, lambda p: close_to_mid(p, mid_point, min_d, dim), True) + 1\n",
    "    elif \"close\" in verbose:\n",
    "        print(\"too close hi\", hi-mid, \"dim\", dim)\n",
    "\n",
    "    # mid_hi1 = mid + 1\n",
    "    # while mid_hi1 < hi and close_to_mid(points[mid_hi1], mid_point, min_d, dim) == 0:\n",
    "    #     mid_hi1 += 1\n",
    "\n",
    "    # if mid_hi != mid_hi1:\n",
    "    #     print(\"Difference mid_hi!\", mid_hi, mid_hi1, hi)\n",
    "    # if mid_lo != mid_lo1:\n",
    "    #     print(\"Difference mid_lo!\", mid_lo, mid_lo1, lo)\n",
    "\n",
    "    brute_force_(points, mid_lo, mid, min_d, pairs, mid, mid_hi)\n",
    "    find_close_pairs_recursion(points, lo, mid, min_d, cutoff, dim_depth, verbose, dim, pairs)\n",
    "    find_close_pairs_recursion(points, mid, hi, min_d, cutoff, dim_depth, verbose, dim, pairs)"
   ]
  },
  {
   "cell_type": "code",
   "execution_count": 3,
   "metadata": {},
   "outputs": [
    {
     "name": "stdout",
     "output_type": "stream",
     "text": [
      "Parameters: min_d = 0.05, cutoff = 20, Points: 16124\n",
      "Finding pairs with dim_depth = 1: 9.1305s. Pairs: 35479\n",
      "i: 2047\n",
      "Finding pairs with dim_depth = 2: 5.0263s. Pairs: 35479\n",
      "i: 2161\n",
      "Finding pairs with dim_depth = 3: 5.1747s. Pairs: 35479\n",
      "i: 2173\n"
     ]
    }
   ],
   "source": [
    "import time\n",
    "\n",
    "positions = positions\n",
    "\n",
    "# reduce the amount of points\n",
    "divide_positions_by = 1\n",
    "\n",
    "size = len(positions)//divide_positions_by\n",
    "min_d = 0.05\n",
    "cutoff = 20\n",
    "print(f\"Parameters: min_d = {min_d}, cutoff = {cutoff}, Points: {size}\")\n",
    "i = 0\n",
    "for dim_depth in [1,2,3]:\n",
    "    start_time = time.time()\n",
    "    positions = sorted(positions, key=lambda p: p[0])\n",
    "\n",
    "    q_pairs = find_close_pairs(positions, 0, size, min_d, cutoff, dim_depth, verbose=[\"\"])\n",
    "    total_time = time.time() - start_time\n",
    "    print(f\"Finding pairs with dim_depth = {dim_depth}: {round(total_time, 4)}s. Pairs: {len(q_pairs)}\")\n",
    "    print(\"i:\", i)\n",
    "    i = 0"
   ]
  },
  {
   "cell_type": "code",
   "execution_count": 4,
   "metadata": {},
   "outputs": [
    {
     "ename": "KeyboardInterrupt",
     "evalue": "",
     "output_type": "error",
     "traceback": [
      "\u001b[1;31m---------------------------------------------------------------------------\u001b[0m",
      "\u001b[1;31mKeyboardInterrupt\u001b[0m                         Traceback (most recent call last)",
      "\u001b[1;32mc:\\Users\\sacka\\Documents\\programming\\work\\student-challenge-particle-simulation\\prototype.ipynb Cell 4\u001b[0m in \u001b[0;36m<cell line: 2>\u001b[1;34m()\u001b[0m\n\u001b[0;32m      <a href='vscode-notebook-cell:/c%3A/Users/sacka/Documents/programming/work/student-challenge-particle-simulation/prototype.ipynb#W3sZmlsZQ%3D%3D?line=0'>1</a>\u001b[0m bf_pairs \u001b[39m=\u001b[39m []\n\u001b[1;32m----> <a href='vscode-notebook-cell:/c%3A/Users/sacka/Documents/programming/work/student-challenge-particle-simulation/prototype.ipynb#W3sZmlsZQ%3D%3D?line=1'>2</a>\u001b[0m brute_force(positions, \u001b[39m0\u001b[39;49m, size, min_d, bf_pairs)\n\u001b[0;32m      <a href='vscode-notebook-cell:/c%3A/Users/sacka/Documents/programming/work/student-challenge-particle-simulation/prototype.ipynb#W3sZmlsZQ%3D%3D?line=3'>4</a>\u001b[0m \u001b[39mprint\u001b[39m(\u001b[39m\"\u001b[39m\u001b[39mBrute force:\u001b[39m\u001b[39m\"\u001b[39m, \u001b[39mlen\u001b[39m(bf_pairs))\n",
      "\u001b[1;32mc:\\Users\\sacka\\Documents\\programming\\work\\student-challenge-particle-simulation\\prototype.ipynb Cell 4\u001b[0m in \u001b[0;36mbrute_force\u001b[1;34m(points, lo, hi, min_d, pairs)\u001b[0m\n\u001b[0;32m     <a href='vscode-notebook-cell:/c%3A/Users/sacka/Documents/programming/work/student-challenge-particle-simulation/prototype.ipynb#W3sZmlsZQ%3D%3D?line=36'>37</a>\u001b[0m \u001b[39mdef\u001b[39;00m \u001b[39mbrute_force\u001b[39m(points, lo, hi, min_d, pairs):\n\u001b[1;32m---> <a href='vscode-notebook-cell:/c%3A/Users/sacka/Documents/programming/work/student-challenge-particle-simulation/prototype.ipynb#W3sZmlsZQ%3D%3D?line=37'>38</a>\u001b[0m     brute_force_(points, lo, hi, min_d, pairs, lo, hi)\n",
      "\u001b[1;32mc:\\Users\\sacka\\Documents\\programming\\work\\student-challenge-particle-simulation\\prototype.ipynb Cell 4\u001b[0m in \u001b[0;36mbrute_force_\u001b[1;34m(points, lo, hi, min_d, pairs, lo1, hi1)\u001b[0m\n\u001b[0;32m     <a href='vscode-notebook-cell:/c%3A/Users/sacka/Documents/programming/work/student-challenge-particle-simulation/prototype.ipynb#W3sZmlsZQ%3D%3D?line=29'>30</a>\u001b[0m p1 \u001b[39m=\u001b[39m points[i]\n\u001b[0;32m     <a href='vscode-notebook-cell:/c%3A/Users/sacka/Documents/programming/work/student-challenge-particle-simulation/prototype.ipynb#W3sZmlsZQ%3D%3D?line=30'>31</a>\u001b[0m p2 \u001b[39m=\u001b[39m points[j]\n\u001b[1;32m---> <a href='vscode-notebook-cell:/c%3A/Users/sacka/Documents/programming/work/student-challenge-particle-simulation/prototype.ipynb#W3sZmlsZQ%3D%3D?line=31'>32</a>\u001b[0m d \u001b[39m=\u001b[39m distance(p1, p2)\n\u001b[0;32m     <a href='vscode-notebook-cell:/c%3A/Users/sacka/Documents/programming/work/student-challenge-particle-simulation/prototype.ipynb#W3sZmlsZQ%3D%3D?line=32'>33</a>\u001b[0m \u001b[39mif\u001b[39;00m d \u001b[39m<\u001b[39m min_d \u001b[39mand\u001b[39;00m (p1, p2) \u001b[39mnot\u001b[39;00m \u001b[39min\u001b[39;00m local_pairs \u001b[39mand\u001b[39;00m (p2, p1) \u001b[39mnot\u001b[39;00m \u001b[39min\u001b[39;00m local_pairs:\n\u001b[0;32m     <a href='vscode-notebook-cell:/c%3A/Users/sacka/Documents/programming/work/student-challenge-particle-simulation/prototype.ipynb#W3sZmlsZQ%3D%3D?line=33'>34</a>\u001b[0m     local_pairs\u001b[39m.\u001b[39mappend((p1, p2))\n",
      "\u001b[1;32mc:\\Users\\sacka\\Documents\\programming\\work\\student-challenge-particle-simulation\\prototype.ipynb Cell 4\u001b[0m in \u001b[0;36mdistance\u001b[1;34m(p1, p2)\u001b[0m\n\u001b[0;32m     <a href='vscode-notebook-cell:/c%3A/Users/sacka/Documents/programming/work/student-challenge-particle-simulation/prototype.ipynb#W3sZmlsZQ%3D%3D?line=19'>20</a>\u001b[0m \u001b[39mdef\u001b[39;00m \u001b[39mdistance\u001b[39m(p1, p2):\n\u001b[0;32m     <a href='vscode-notebook-cell:/c%3A/Users/sacka/Documents/programming/work/student-challenge-particle-simulation/prototype.ipynb#W3sZmlsZQ%3D%3D?line=20'>21</a>\u001b[0m     d \u001b[39m=\u001b[39m \u001b[39m0\u001b[39m\n\u001b[1;32m---> <a href='vscode-notebook-cell:/c%3A/Users/sacka/Documents/programming/work/student-challenge-particle-simulation/prototype.ipynb#W3sZmlsZQ%3D%3D?line=21'>22</a>\u001b[0m     \u001b[39mfor\u001b[39;00m i \u001b[39min\u001b[39;00m \u001b[39mrange\u001b[39m(\u001b[39mlen\u001b[39;49m(p1)):\n\u001b[0;32m     <a href='vscode-notebook-cell:/c%3A/Users/sacka/Documents/programming/work/student-challenge-particle-simulation/prototype.ipynb#W3sZmlsZQ%3D%3D?line=22'>23</a>\u001b[0m         d \u001b[39m+\u001b[39m\u001b[39m=\u001b[39m (p1[i] \u001b[39m-\u001b[39m p2[i])\u001b[39m*\u001b[39m\u001b[39m*\u001b[39m\u001b[39m2\u001b[39m\n\u001b[0;32m     <a href='vscode-notebook-cell:/c%3A/Users/sacka/Documents/programming/work/student-challenge-particle-simulation/prototype.ipynb#W3sZmlsZQ%3D%3D?line=23'>24</a>\u001b[0m     \u001b[39mreturn\u001b[39;00m d\u001b[39m*\u001b[39m\u001b[39m*\u001b[39m\u001b[39m0.5\u001b[39m\n",
      "\u001b[1;31mKeyboardInterrupt\u001b[0m: "
     ]
    }
   ],
   "source": [
    "bf_pairs = []\n",
    "brute_force(positions, 0, size, min_d, bf_pairs)\n",
    "\n",
    "print(\"Brute force:\", len(bf_pairs))"
   ]
  }
 ],
 "metadata": {
  "kernelspec": {
   "display_name": "Python 3.10.5 64-bit",
   "language": "python",
   "name": "python3"
  },
  "language_info": {
   "codemirror_mode": {
    "name": "ipython",
    "version": 3
   },
   "file_extension": ".py",
   "mimetype": "text/x-python",
   "name": "python",
   "nbconvert_exporter": "python",
   "pygments_lexer": "ipython3",
   "version": "3.10.5"
  },
  "orig_nbformat": 4,
  "vscode": {
   "interpreter": {
    "hash": "369f2c481f4da34e4445cda3fffd2e751bd1c4d706f27375911949ba6bb62e1c"
   }
  }
 },
 "nbformat": 4,
 "nbformat_minor": 2
}
